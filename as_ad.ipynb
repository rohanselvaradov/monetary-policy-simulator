{
 "cells": [
  {
   "cell_type": "code",
   "execution_count": null,
   "metadata": {},
   "outputs": [],
   "source": [
    "import numpy as np\n",
    "import matplotlib.pyplot as plt\n",
    "import ipywidgets as widgets\n",
    "from IPython.display import display"
   ]
  },
  {
   "cell_type": "markdown",
   "metadata": {},
   "source": [
    "The components of the closed economy AS-AD model are:\n",
    "\n",
    "- IS: $\\tilde Y_t = \\bar a - \\bar b(R_t - \\bar r)$\n",
    "- MPR: $R_t - \\bar r = \\psi (\\pi_t - \\bar \\pi) + \\phi \\tilde Y_t$\n",
    "- PC: $\\pi_t = \\pi_{t-1} + \\bar \\nu \\tilde Y_t + \\bar o_t$\n"
   ]
  },
  {
   "cell_type": "markdown",
   "metadata": {},
   "source": [
    "The IS curve is derived from the national income identity $Y_t = C_t + I_t + G_t + NX_t$. If we assume that each component's share of potential output is a constant, except for investment which is also determined by deviations in the real interest rate $R_t$ from the marginal product of capital $\\bar r$, we get:\n",
    "- $\\frac{C_t}{\\bar Y_t} = \\bar a_c$\n",
    "- $\\frac{I_t}{\\bar Y_t} = \\bar a_i + \\bar b_i (R_t - \\bar r)$\n",
    "- $\\frac{G_t}{\\bar Y_t} = \\bar a_g$\n",
    "- $\\frac{NX_t}{\\bar Y_t} = \\bar a_{nx}$\n",
    "\n",
    "Given that $\\tilde Y_t \\equiv \\frac {Y_t}{\\bar Y_t} -1$, we can write the IS curve as $\\tilde Y_t = \\bar a - \\bar b(R_t - \\bar r)$, where $\\bar a:= \\bar a_c + \\bar a_i + \\bar a_g + \\bar a_{nx} - 1$ and $\\bar b:= \\bar b_i$.  "
   ]
  },
  {
   "cell_type": "markdown",
   "metadata": {},
   "source": [
    "With PC as AS, and substituting MPR into IS for AD:\n",
    "- AS: $\\pi_t = \\pi_{t-1} + \\bar \\nu \\tilde Y_t + \\bar o_t$\n",
    "- AD: $\\tilde Y_t = \\frac{\\bar a}{1+\\phi \\bar b } - \\frac{\\psi \\bar b }{1+ \\phi \\bar b } (\\pi_t - \\bar \\pi)$\n"
   ]
  },
  {
   "cell_type": "markdown",
   "metadata": {},
   "source": [
    "\n",
    "We can substitute the AD equation into the AS equation, letting $\\hat a:= \\frac{\\bar a}{1+ \\phi \\bar b}$ and $\\hat b:= \\frac{\\bar b}{1+\\phi \\bar b }$:\n",
    "\n",
    "$$\\pi_t = \\pi_{t-1} + \\bar \\nu \\psi \\left( \\hat a - \\hat b (\\pi_t - \\bar \\pi) \\right) + \\bar o_t$$\n"
   ]
  },
  {
   "cell_type": "markdown",
   "metadata": {},
   "source": [
    "\n",
    "Adding $\\bar \\nu \\psi \\hat b (\\pi_t - \\bar \\pi) - \\bar \\pi$ to both sides and factorising the left-hand side:\n",
    "\n",
    "$$(1 + \\bar \\nu \\psi \\hat b)(\\pi_t - \\bar \\pi) = \\pi_{t-1}  + \\bar \\nu \\hat a + \\bar o_t - \\bar \\pi$$ \n"
   ]
  },
  {
   "cell_type": "markdown",
   "metadata": {},
   "source": [
    "\n",
    "Dividing through by $(1 + \\bar \\nu \\psi \\hat b)$:\n",
    "\n",
    "$$\\pi_t - \\bar \\pi  = \\frac{\\bar \\nu \\hat a}{1 + \\bar \\nu \\psi \\hat b} + \\frac{\\pi_{t-1} -\\bar \\pi + \\bar o_t }{1 + \\bar \\nu \\psi \\hat b} $$\n"
   ]
  },
  {
   "cell_type": "markdown",
   "metadata": {},
   "source": [
    "This can be tidied up by letting $\\check a:= \\frac{\\hat a}{1+\\bar \\nu \\psi \\hat b} = \\frac{\\bar a}{1 + \\phi \\bar b  + \\bar \\nu \\psi \\bar b}$ and $\\check b:= \\frac{\\hat b}{1+ \\bar \\nu \\psi \\hat b} = \\frac{\\bar b}{1+\\phi \\bar b + \\bar \\nu \\psi \\bar b}$.\n",
    "\n",
    "Note that since $1-\\bar \\nu \\psi \\check b = 1-\\frac{\\bar \\nu \\psi \\hat b }{1+ \\bar \\nu \\psi \\hat b} = \\frac{1+ \\bar \\nu \\psi \\hat b - \\bar \\nu \\psi \\hat b }{1+ \\bar \\nu \\psi \\hat b} = \\frac{1}{1+ \\bar \\nu \\psi \\hat b}$, we can put the denominator of the second term in the form $(1-\\bar \\nu \\psi \\check b)$:\n",
    "\n",
    "$$\\pi_t - \\bar \\pi = \\bar \\nu \\check a + (1-\\bar \\nu  \\psi \\check b)(\\pi_{t-1} - \\bar \\pi + \\bar o_t)$$\n"
   ]
  },
  {
   "cell_type": "markdown",
   "metadata": {},
   "source": [
    "We can use the fact that $\\check a = \\frac{\\bar a}{1 + \\phi \\bar b  + \\bar \\nu \\psi \\bar b}$ and $\\check b = \\frac{\\bar b}{1+\\phi \\bar b + \\bar \\nu \\psi \\bar b}$ to put it in terms of the original parameters."
   ]
  },
  {
   "cell_type": "markdown",
   "metadata": {},
   "source": [
    "\n",
    "**The inflation gap is**\n",
    "$$\\pi_t - \\bar \\pi = \\frac{\\bar \\nu \\bar a}{1 + \\phi \\bar b + \\bar \\nu \\psi \\bar b} + \\frac{1 + \\phi \\bar b}{1+\\phi \\bar b + \\bar \\nu \\psi \\bar b}(\\pi_{t-1} - \\bar \\pi + \\bar o_t)$$\n"
   ]
  },
  {
   "cell_type": "markdown",
   "metadata": {},
   "source": [
    "\n",
    "Substituting the neater version of AS (with $\\check a$ and $\\check b$) into our AD equation (we'll again temporarily use $\\hat a$ and $\\hat b$  and return to our original parameters $\\bar a$ and $\\bar b$ at the end):\n",
    "$$\\tilde Y_t = \\hat a - \\psi  \\hat b (\\bar \\nu \\check a + (1-\\bar \\nu  \\psi \\check b)(\\pi_{t-1} - \\bar \\pi + \\bar o_t))$$\n"
   ]
  },
  {
   "cell_type": "markdown",
   "metadata": {},
   "source": [
    "Multiplying out the brackets and substituting $\\hat a$ for $(1+ \\bar \\nu \\psi \\hat b)\\check a$:\n",
    "\n",
    "$$\\tilde Y_t = (1+ \\bar \\nu \\psi \\hat b)\\check a -  \\psi \\hat b \\bar \\nu \\check a - \\psi \\hat b (1-\\bar \\nu  \\psi \\check b)(\\pi_{t-1} - \\bar \\pi + \\bar o_t))$$\n",
    "\n",
    "$$= \\check a - \\psi \\hat b (1-\\bar \\nu  \\psi \\check b)(\\pi_{t-1} - \\bar \\pi + \\bar o_t))$$"
   ]
  },
  {
   "cell_type": "markdown",
   "metadata": {},
   "source": [
    "Remember that $(1-\\bar \\nu \\psi \\check b) = \\frac{1}{1+ \\bar \\nu \\psi \\hat b}$, so substituting this back in, we get:\n",
    "\n",
    "$$\\tilde Y_t = \\check a - \\frac{\\psi \\hat b}{1+ \\bar \\nu \\psi \\hat b}(\\pi_{t-1} - \\bar \\pi + \\bar o_t)$$"
   ]
  },
  {
   "cell_type": "markdown",
   "metadata": {},
   "source": [
    "But we defined $\\check b:= \\frac{\\hat b}{1+ \\bar \\nu \\psi \\hat b}$, so the fraction can be tidied up to:\n",
    "\n",
    "$$\\tilde Y_t = \\check a - \\psi \\check b(\\pi_{t-1} - \\bar \\pi + \\bar o_t)$$"
   ]
  },
  {
   "cell_type": "markdown",
   "metadata": {},
   "source": [
    "**In terms of the original parameters, the output gap is:**\n",
    "$$\\tilde Y_t = \\frac{\\bar a}{1+\\phi \\bar b + \\bar \\nu \\psi \\bar b} - \\psi \\frac{\\bar b}{1+\\phi \\bar b + \\bar \\nu \\psi \\bar b}(\\pi_{t-1} - \\bar \\pi + \\bar o_t)$$"
   ]
  },
  {
   "cell_type": "markdown",
   "metadata": {},
   "source": [
    "## Setup"
   ]
  },
  {
   "cell_type": "code",
   "execution_count": null,
   "metadata": {},
   "outputs": [],
   "source": [
    "# Parameters\n",
    "A_BAR = 0  # Demand shocks\n",
    "B_BAR = 0.5  # Sensitivity of investment & consumption to real interest rate deviations\n",
    "R_BAR = 2  # MP_K; Long-run real interest rate (%)\n",
    "PI_BAR = 2  # Inflation target (%)\n",
    "PSI = 0.5  # Inflation deviation sensitivity\n",
    "PHI = 0.5  # Output gap sensitivity\n",
    "NU_BAR = 0.5  # Sensitivity of inflation expectations to output gap\n",
    "O_BAR = 0.0  # Supply shocks"
   ]
  },
  {
   "cell_type": "markdown",
   "metadata": {},
   "source": [
    "## Plotting AS/AD and changing parameters"
   ]
  },
  {
   "cell_type": "code",
   "execution_count": null,
   "metadata": {},
   "outputs": [],
   "source": [
    "# Generate values for plotting\n",
    "Y_tilde_values = np.linspace(-10, 10, 400)\n",
    "pi_values = np.linspace(-10, 10, 400)"
   ]
  },
  {
   "cell_type": "code",
   "execution_count": null,
   "metadata": {},
   "outputs": [],
   "source": [
    "def AS_curve(Y_tilde_t, pi_bar, nu_bar, o_bar, steady_state=True):\n",
    "    if not steady_state:\n",
    "        raise NotImplementedError\n",
    "    return pi_bar + nu_bar * Y_tilde_t + o_bar\n",
    "\n",
    "def AD_curve(pi_t, pi_bar, a_bar, b_bar, psi, phi, steady_state=True):\n",
    "    if not steady_state:\n",
    "        raise NotImplementedError\n",
    "    return a_bar / (1 + b_bar * phi) - b_bar * psi / (1 + b_bar * phi) * (pi_t - pi_bar)"
   ]
  },
  {
   "cell_type": "code",
   "execution_count": null,
   "metadata": {},
   "outputs": [],
   "source": [
    "def plot_curves(a_bar, b_bar, pi_bar, nu_bar, o_bar, psi, phi):\n",
    "    # Calculate corresponding values for AS curve and AD curve\n",
    "    AS_values = AS_curve(Y_tilde_values, pi_bar, nu_bar, o_bar)\n",
    "    AD_values = AD_curve(pi_values, pi_bar, a_bar, b_bar, psi, phi)\n",
    "\n",
    "    # Plot the AS curve and AD curve\n",
    "    fig, ax = plt.subplots(figsize=(6, 4))\n",
    "    ax.plot(Y_tilde_values, AS_values, label=r'AS: $\\pi_t = \\pi_{t-1} + \\bar \\nu \\tilde Y_t + \\bar o_t$', color='blue')\n",
    "    ax.plot(AD_values, pi_values, label=r'AD: $\\tilde Y_t = \\frac{\\bar a}{1+\\bar b \\phi} - \\frac{\\bar b \\psi}{1+\\bar b \\phi} (\\pi_t - \\bar \\pi)$', color='red')\n",
    "    ax.set_xlabel('Output Gap, $\\\\tilde{Y}$')\n",
    "    ax.set_ylabel('Inflation Rate, $\\\\pi$')\n",
    "    ax.set_title('AS-AD Model')\n",
    "    ax.axhline(0, color='black', linewidth=0.5)\n",
    "    ax.axvline(0, color='black', linewidth=0.5)\n",
    "    ax.axhline(pi_bar, color='green', linestyle='--', label='$\\\\bar \\\\pi = 2\\\\%$')\n",
    "    ax.grid(color='gray', linestyle='--', linewidth=0.5)\n",
    "    ax.set_xlim(-10, 10)\n",
    "    ax.set_ylim(-10, 10)\n",
    "    ax.legend(loc='lower left')\n",
    "    plt.show()\n"
   ]
  },
  {
   "cell_type": "code",
   "execution_count": null,
   "metadata": {},
   "outputs": [],
   "source": [
    "# Create sliders for parameters\n",
    "a_bar_slider = widgets.FloatSlider(value=A_BAR, min=-10, max=10, step=0.1, description=r'$a_{bar}$:')\n",
    "b_bar_slider = widgets.FloatSlider(value=B_BAR, min=0.1, max=1, step=0.01, description=r'$b_{bar}$:')\n",
    "pi_bar_slider = widgets.FloatSlider(value=PI_BAR, min=-5, max=5, step=0.1, description=r'$\\pi_{bar}$:')\n",
    "nu_bar_slider = widgets.FloatSlider(value=NU_BAR, min=0, max=1, step=0.01, description=r'$\\nu_{bar}$:')\n",
    "o_bar_slider = widgets.FloatSlider(value=O_BAR, min=-10, max=10, step=0.1, description=r'$o_{bar}$:')\n",
    "psi_slider = widgets.FloatSlider(value=PSI, min=0, max=100, step=0.1, description=r'$\\psi$:')\n",
    "phi_slider = widgets.FloatSlider(value=PHI, min=0, max=100, step=0.1, description=r'$\\phi$:')"
   ]
  },
  {
   "cell_type": "code",
   "execution_count": null,
   "metadata": {},
   "outputs": [],
   "source": [
    "# Create interactive widget\n",
    "widgets.interact(plot_curves, a_bar=a_bar_slider, b_bar=b_bar_slider, pi_bar=pi_bar_slider,\n",
    "                 nu_bar=nu_bar_slider, o_bar=o_bar_slider, psi=psi_slider, phi=phi_slider)\n",
    "# note that the LaTeX isn't rendering properly; see https://stackoverflow.com/questions/77360575/how-to-get-latex-symbol-rendering-correctly-in-ipywidgets "
   ]
  },
  {
   "cell_type": "markdown",
   "metadata": {},
   "source": [
    "## Dynamic model"
   ]
  },
  {
   "cell_type": "markdown",
   "metadata": {},
   "source": [
    "For now, we'll explicitly solve the model for $\\pi_t$ and $\\tilde Y_t$ using the analytic equations found above. A next step would be to use numerical methods to solve the model."
   ]
  },
  {
   "cell_type": "code",
   "execution_count": null,
   "metadata": {},
   "outputs": [],
   "source": [
    "def pi_t(pi_t_minus_1, pi_bar, a_bar, b_bar, psi, phi, nu_bar, o_bar_t):\n",
    "    return pi_bar + nu_bar * a_bar / (1 + phi * b_bar + nu_bar * psi * b_bar) + (1 + phi * b_bar) / (1 + phi * b_bar + nu_bar * psi * b_bar) * (pi_t_minus_1 - pi_bar + o_bar_t)\n",
    "\n",
    "def Y_tilde_t(pi_t_minus_1, pi_bar, a_bar, b_bar, psi, phi, nu_bar, o_bar_t):\n",
    "    return a_bar / (1 + b_bar * phi + nu_bar * psi * b_bar) - psi * b_bar / (1 + phi * b_bar + nu_bar * psi * b_bar) * (pi_t_minus_1 - pi_bar + o_bar_t)"
   ]
  },
  {
   "cell_type": "markdown",
   "metadata": {},
   "source": [
    "First, just check that the model is stable in its steady state."
   ]
  },
  {
   "cell_type": "code",
   "execution_count": null,
   "metadata": {},
   "outputs": [],
   "source": [
    "# Time parameters\n",
    "T = 100\n",
    "time = np.arange(0, T)\n",
    "\n",
    "# Arrays to store results\n",
    "Y_tildes = np.zeros_like(time)\n",
    "pis = np.zeros_like(time)\n",
    "\n",
    "# Initial conditions\n",
    "Y_tilde_0 = 0\n",
    "pi_0 = PI_BAR\n",
    "\n",
    "Y_tildes[0] = Y_tilde_0\n",
    "pis[0] = pi_0"
   ]
  },
  {
   "cell_type": "code",
   "execution_count": null,
   "metadata": {},
   "outputs": [],
   "source": [
    "for t in range(1, T):\n",
    "    Y_tildes[t] = Y_tilde_t(pis[t - 1], PI_BAR, A_BAR, B_BAR, PSI, PHI, NU_BAR, O_BAR)\n",
    "    pis[t] = pi_t(pis[t - 1], PI_BAR, A_BAR, B_BAR, PSI, PHI, NU_BAR, O_BAR)\n",
    "fig, axs = plt.subplots(2, 1)\n",
    "axs[0].plot(time, Y_tildes, label='Output Gap, $\\\\tilde{Y}$')\n",
    "axs[0].set_title('Output Gap')\n",
    "axs[1].plot(time, pis, label='Inflation Rate, $\\\\pi$')\n",
    "axs[1].set_title('Inflation Rate')\n",
    "fig.suptitle('AS-AD Model in steady state')\n",
    "plt.tight_layout()"
   ]
  },
  {
   "cell_type": "markdown",
   "metadata": {},
   "source": [
    "### Experiments\n"
   ]
  },
  {
   "cell_type": "markdown",
   "metadata": {},
   "source": [
    "\n",
    "#### Supply shock"
   ]
  },
  {
   "cell_type": "code",
   "execution_count": null,
   "metadata": {},
   "outputs": [],
   "source": [
    "# Time parameters\n",
    "T = 100\n",
    "time = np.arange(0, T)\n",
    "\n",
    "# Arrays to store results\n",
    "Y_tildes = np.zeros_like(time, dtype=float)\n",
    "pis = np.zeros_like(time, dtype=float)\n",
    "\n",
    "# Initial conditions\n",
    "Y_tilde_0 = 0\n",
    "pi_0 = PI_BAR\n",
    "\n",
    "Y_tildes[0] = Y_tilde_0\n",
    "pis[0] = pi_0\n",
    "\n",
    "# Setting up a negative supply shock in period 5\n",
    "o_bars = np.zeros_like(time, dtype=float)\n",
    "o_bars[10] = 1"
   ]
  },
  {
   "cell_type": "code",
   "execution_count": null,
   "metadata": {},
   "outputs": [],
   "source": [
    "for t in range(1, T):\n",
    "    Y_tildes[t] = Y_tilde_t(pis[t - 1], PI_BAR, A_BAR, B_BAR, PSI, PHI, NU_BAR, o_bars[t])\n",
    "    pis[t] = pi_t(pis[t - 1], PI_BAR, A_BAR, B_BAR, PSI, PHI, NU_BAR, o_bars[t])"
   ]
  },
  {
   "cell_type": "code",
   "execution_count": null,
   "metadata": {},
   "outputs": [],
   "source": [
    "fig, axs = plt.subplots(2, 1)\n",
    "axs[0].plot(time, Y_tildes, label='Output Gap, $\\\\tilde{Y}$')\n",
    "axs[0].set_title('Output Gap')\n",
    "axs[1].plot(time, pis, label='Inflation Rate, $\\\\pi$')\n",
    "axs[1].set_title('Inflation Rate')\n",
    "fig.suptitle('AS-AD Model with Negative Supply Shock in Period 10')\n",
    "plt.tight_layout()"
   ]
  },
  {
   "cell_type": "markdown",
   "metadata": {},
   "source": [
    "What is the effect of the policy parameters $\\phi$ and $\\psi$ on the response of the economy to a supply shock?"
   ]
  },
  {
   "cell_type": "code",
   "execution_count": null,
   "metadata": {},
   "outputs": [],
   "source": [
    "def simulate_supply_shock(psi, phi, T=100):\n",
    "    # Time parameters\n",
    "    time = np.arange(0, T)\n",
    "\n",
    "    # Arrays to store results\n",
    "    Y_tildes = np.zeros_like(time, dtype=float)\n",
    "    pis = np.zeros_like(time, dtype=float)\n",
    "\n",
    "    # Initial conditions\n",
    "    Y_tilde_0 = 0\n",
    "    pi_0 = PI_BAR\n",
    "\n",
    "    Y_tildes[0] = Y_tilde_0\n",
    "    pis[0] = pi_0\n",
    "\n",
    "    # Setting up a negative supply shock in period 5\n",
    "    o_bars = np.zeros_like(time, dtype=float)\n",
    "    o_bars[10] = 1\n",
    "\n",
    "    for t in range(1, T):\n",
    "        Y_tildes[t] = Y_tilde_t(pis[t - 1], PI_BAR, A_BAR, B_BAR, psi, phi, NU_BAR, o_bars[t])\n",
    "        pis[t] = pi_t(pis[t - 1], PI_BAR, A_BAR, B_BAR, psi, phi, NU_BAR, o_bars[t])\n",
    "    return Y_tildes, pis"
   ]
  },
  {
   "cell_type": "code",
   "execution_count": null,
   "metadata": {},
   "outputs": [],
   "source": [
    "# Define the range of psi and phi parameters\n",
    "psi_values = np.logspace(0, 2, num=4)\n",
    "phi_values = np.logspace(0, 2, num=4)\n",
    "\n",
    "# Initialize lists to store results\n",
    "output_gaps = []\n",
    "inflations = []\n",
    "\n",
    "# NOTE I think it would be better to store the results as (Y_tilde, pi) tuples in a 3D array (phi x psi x T) from the start, rather than reshaping later on"
   ]
  },
  {
   "cell_type": "code",
   "execution_count": null,
   "metadata": {},
   "outputs": [],
   "source": [
    "# Run grid search\n",
    "for psi in (psi_values):\n",
    "    for phi in phi_values:\n",
    "        # Run the simulation with the current psi and phi\n",
    "        output_gap, inflation = simulate_supply_shock(psi, phi, T)\n",
    "        output_gaps.append(output_gap)\n",
    "        inflations.append(inflation)"
   ]
  },
  {
   "cell_type": "code",
   "execution_count": null,
   "metadata": {},
   "outputs": [],
   "source": [
    "# Reshape results to match the grid layout\n",
    "output_gaps = np.array(output_gaps).reshape(len(psi_values), len(phi_values), T)\n",
    "inflations = np.array(inflations).reshape(len(psi_values), len(phi_values), T)"
   ]
  },
  {
   "cell_type": "code",
   "execution_count": null,
   "metadata": {},
   "outputs": [],
   "source": [
    "# Plot the time series of output gap and inflation\n",
    "fig, axs = plt.subplots(len(psi_values), len(phi_values), sharex=True, sharey=True, figsize=(8, 6))\n",
    "for i, psi in enumerate(psi_values):\n",
    "    for j, phi in enumerate(phi_values):\n",
    "        axs[i, j].plot(output_gaps[i, j], label='Output gap')\n",
    "        axs[i, j].plot(inflations[i, j], label='Inflation')\n",
    "        axs[i, j].set_title(f'$\\\\psi = {psi:.2f}$, $\\\\phi = {phi:.2f}$')\n",
    "fig.suptitle('Output gap and inflation with a 1% negative supply shock in period 10')\n",
    "fig.tight_layout()\n",
    "plt.show()\n",
    "# TODO put a legend on the plot"
   ]
  },
  {
   "cell_type": "code",
   "execution_count": null,
   "metadata": {},
   "outputs": [],
   "source": [
    "def plot_supply_shock(psi, phi):\n",
    "    output_gap, inflation = simulate_supply_shock(psi, phi, T=100)\n",
    "    fig, ax = plt.subplots(figsize=(10, 5))\n",
    "    ax.plot(output_gap, label='Output gap')\n",
    "    ax.plot(inflation, label='Inflation')\n",
    "    ax.legend()\n",
    "    ax.set(title = 'Output gap and inflation with a 1% negative supply shock in period 10',\n",
    "              xlabel = 'Time',\n",
    "              ylabel = 'Level')\n",
    "    plt.show()"
   ]
  },
  {
   "cell_type": "code",
   "execution_count": null,
   "metadata": {},
   "outputs": [],
   "source": [
    "# Create sliders for parameters\n",
    "psi_slider = widgets.FloatSlider(value=PSI, min=0, max=100, step=0.1, description=r'$\\psi$:')\n",
    "phi_slider = widgets.FloatSlider(value=PHI, min=0, max=100, step=0.1, description=r'$\\phi$:')\n",
    "\n",
    "widgets.interact(plot_supply_shock, psi=psi_slider, phi=phi_slider)\n",
    "# TODO work out why this is displaying three times..."
   ]
  },
  {
   "cell_type": "markdown",
   "metadata": {},
   "source": [
    "#### Demand shock"
   ]
  },
  {
   "cell_type": "code",
   "execution_count": null,
   "metadata": {},
   "outputs": [],
   "source": [
    "def simulate_demand_shock(psi, phi, T=100):\n",
    "    # Time values\n",
    "    time = np.arange(0, T)\n",
    "\n",
    "    # Arrays to store results\n",
    "    Y_tildes = np.zeros_like(time, dtype=float)\n",
    "    pis = np.zeros_like(time, dtype=float)\n",
    "\n",
    "    # Initial conditions\n",
    "    Y_tilde_0 = 0\n",
    "    pi_0 = PI_BAR\n",
    "\n",
    "    Y_tildes[0] = Y_tilde_0\n",
    "    pis[0] = pi_0\n",
    "\n",
    "    # Setting up a positive demand shock in period 5\n",
    "    a_bars = np.zeros_like(time, dtype=float)\n",
    "    a_bars[10] = 1\n",
    "\n",
    "    for t in range(1, T):\n",
    "        Y_tildes[t] = Y_tilde_t(pis[t - 1], PI_BAR, a_bars[t], B_BAR, psi, phi, NU_BAR, O_BAR)\n",
    "        pis[t] = pi_t(pis[t - 1], PI_BAR, a_bars[t], B_BAR, psi, phi, NU_BAR, O_BAR)\n",
    "    return Y_tildes, pis"
   ]
  },
  {
   "cell_type": "code",
   "execution_count": null,
   "metadata": {},
   "outputs": [],
   "source": [
    "def plot_demand_shock(psi, phi):\n",
    "    output_gap, inflation = simulate_demand_shock(psi, phi, T=100)\n",
    "    fig, ax = plt.subplots()\n",
    "    ax.plot(output_gap, label='Output gap')\n",
    "    ax.plot(inflation, label='Inflation')\n",
    "    ax.legend()\n",
    "    ax.set(title = 'Output gap and inflation with a 1% positive demand shock in period 10',\n",
    "              xlabel = 'Time',\n",
    "              ylabel = 'Level')\n",
    "    plt.show()"
   ]
  },
  {
   "cell_type": "code",
   "execution_count": null,
   "metadata": {},
   "outputs": [],
   "source": [
    "plot_demand_shock(PSI, PHI)"
   ]
  },
  {
   "cell_type": "code",
   "execution_count": null,
   "metadata": {},
   "outputs": [],
   "source": [
    "# Define the range of psi and phi parameters\n",
    "psi_values = np.logspace(0, 2, num=4)\n",
    "phi_values = np.logspace(0, 2, num=4)\n",
    "\n",
    "# Initialize lists to store results\n",
    "output_gaps = []\n",
    "inflations = []\n",
    "\n",
    "# NOTE I think it would be better to store the results as (Y_tilde, pi) tuples in a 3D array (phi x psi x T) from the start, rather than reshaping later on\n",
    "\n",
    "# Run grid search\n",
    "for psi in (psi_values):\n",
    "    for phi in phi_values:\n",
    "        # Run the simulation with the current psi and phi\n",
    "        output_gap, inflation = simulate_demand_shock(psi, phi, T)\n",
    "        output_gaps.append(output_gap)\n",
    "        inflations.append(inflation)\n",
    "# Reshape results to match the grid layout\n",
    "output_gaps = np.array(output_gaps).reshape(len(psi_values), len(phi_values), T)\n",
    "inflations = np.array(inflations).reshape(len(psi_values), len(phi_values), T)\n",
    "# Plot the time series of output gap and inflation\n",
    "fig, axs = plt.subplots(len(psi_values), len(phi_values), sharex=True, sharey=True, figsize=(8, 6))\n",
    "for i, psi in enumerate(psi_values):\n",
    "    for j, phi in enumerate(phi_values):\n",
    "        axs[i, j].plot(output_gaps[i, j], label='Output gap')\n",
    "        axs[i, j].plot(inflations[i, j], label='Inflation')\n",
    "        axs[i, j].set_title(f'$\\\\psi = {psi:.2f}$, $\\\\phi = {phi:.2f}$')\n",
    "fig.suptitle('Output gap and inflation with a 1% positive demand shock in period 10')\n",
    "fig.tight_layout()\n",
    "plt.show()\n",
    "# TODO put a legend on the plot"
   ]
  },
  {
   "cell_type": "code",
   "execution_count": null,
   "metadata": {},
   "outputs": [],
   "source": [
    "# Create sliders for parameters\n",
    "psi_slider = widgets.FloatSlider(value=PSI, min=0, max=100, step=0.1, description=r'$\\psi$:')\n",
    "phi_slider = widgets.FloatSlider(value=PHI, min=0, max=100, step=0.1, description=r'$\\phi$:')\n",
    "\n",
    "widgets.interact(plot_demand_shock, psi=psi_slider, phi=phi_slider)"
   ]
  },
  {
   "cell_type": "markdown",
   "metadata": {},
   "source": [
    "#### Generalised shock"
   ]
  },
  {
   "cell_type": "code",
   "execution_count": null,
   "metadata": {},
   "outputs": [],
   "source": [
    "def run_simulation(a_bar=None, b_bar=None, pi_bar=None, nu_bar=None, o_bar=None, psi=None, phi=None, T=100):\n",
    "    \"\"\"\n",
    "    If provided, a_bar, b_bar, pi_bar, nu_bar, o_bar, psi, and phi should be 1D arrays of length T. The policy parameters pi_bar, phi, and psi are also allowed to be scalars.\n",
    "    \"\"\"\n",
    "    a_bar = np.full(T, A_BAR) if a_bar is None else a_bar\n",
    "    b_bar = np.full(T, B_BAR) if b_bar is None else b_bar\n",
    "    nu_bar = np.full(T, NU_BAR) if nu_bar is None else nu_bar\n",
    "    o_bar = np.full(T, O_BAR) if o_bar is None else o_bar\n",
    "\n",
    "    if np.isscalar(psi):\n",
    "        psi = np.full(T, psi)\n",
    "    elif psi is None:\n",
    "        psi = np.full(T, PSI)\n",
    "\n",
    "    if np.isscalar(phi):\n",
    "        phi = np.full(T, phi)\n",
    "    elif phi is None:\n",
    "        phi = np.full(T, PHI)\n",
    "\n",
    "    if np.isscalar(pi_bar):\n",
    "        pi_bar = np.full(T, pi_bar)\n",
    "    elif pi_bar is None:\n",
    "        pi_bar = np.full(T, PI_BAR)\n",
    "\n",
    "    # Time values\n",
    "    time = np.arange(0, T)\n",
    "\n",
    "    # Arrays to store results\n",
    "    Y_tildes = np.zeros_like(time, dtype=float)\n",
    "    pis = np.zeros_like(time, dtype=float)\n",
    "    \n",
    "    # Initial conditions\n",
    "    Y_tilde_0 = 0\n",
    "    pi_0 = PI_BAR\n",
    "    Y_tildes[0] = Y_tilde_0\n",
    "    pis[0] = pi_0\n",
    "\n",
    "    for t in range(1, T):\n",
    "        Y_tildes[t] = Y_tilde_t(pis[t - 1], pi_bar[t], a_bar[t], b_bar[t], psi[t], phi[t], nu_bar[t], o_bar[t])\n",
    "        pis[t] = pi_t(pis[t - 1], pi_bar[t], a_bar[t], b_bar[t], psi[t], phi[t], nu_bar[t], o_bar[t])\n",
    "    return Y_tildes, pis\n"
   ]
  },
  {
   "cell_type": "code",
   "execution_count": null,
   "metadata": {},
   "outputs": [],
   "source": [
    "def plot_simulation(a_bar=None, b_bar=None, pi_bar=None, nu_bar=None, o_bar=None, psi=None, phi=None, T=100):\n",
    "    Y_tildes, pis = run_simulation(a_bar, b_bar, pi_bar, nu_bar, o_bar, psi, phi, T)\n",
    "    fig, axs = plt.subplots(2, 1)\n",
    "    axs[0].plot(Y_tildes, label='Output Gap, $\\\\tilde{Y}$')\n",
    "    axs[0].set_title('Output Gap')\n",
    "    axs[1].plot(pis, label='Inflation Rate, $\\\\pi$')\n",
    "    axs[1].set_title('Inflation Rate')\n",
    "    fig.suptitle('AS-AD Model')\n",
    "    plt.tight_layout()\n",
    "    plt.show()"
   ]
  },
  {
   "cell_type": "code",
   "execution_count": null,
   "metadata": {},
   "outputs": [],
   "source": [
    "plot_simulation(psi=0.5)"
   ]
  },
  {
   "cell_type": "code",
   "execution_count": null,
   "metadata": {},
   "outputs": [],
   "source": [
    "def period_10_shock(shock, T=100):\n",
    "    vals = np.zeros(T, dtype=float)\n",
    "    vals[10] = shock\n",
    "    return vals"
   ]
  },
  {
   "cell_type": "code",
   "execution_count": null,
   "metadata": {},
   "outputs": [],
   "source": [
    "# Create sliders for parameters\n",
    "# a_bar_slider = widgets.FloatSlider(value=A_BAR, min=-10, max=10, step=0.1, description=r'$a_{bar}$:')\n",
    "# b_bar_slider = widgets.FloatSlider(value=B_BAR, min=0.1, max=1, step=0.01, description=r'$b_{bar}$:')\n",
    "# pi_bar_slider = widgets.FloatSlider(value=PI_BAR, min=-5, max=5, step=0.1, description=r'$\\pi_{bar}$:')\n",
    "# nu_bar_slider = widgets.FloatSlider(value=NU_BAR, min=0, max=1, step=0.01, description=r'$\\nu_{bar}$:')\n",
    "# o_bar_slider = widgets.FloatSlider(value=O_BAR, min=-10, max=10, step=0.1, description=r'$o_{bar}$:')\n",
    "psi_slider = widgets.FloatSlider(value=PSI, min=0, max=100, step=0.1, description=r'$\\psi$:')\n",
    "phi_slider = widgets.FloatSlider(value=PHI, min=0, max=100, step=0.1, description=r'$\\phi$:')\n",
    "# T_slider = widgets.IntSlider(value=100, min=10, max=1000, step=10, description=r'T')\n",
    "\n",
    "# widgets.interact(plot_simulation, a_bar=a_bar_slider, b_bar=b_bar_slider, pi_bar=pi_bar_slider,\n",
    "#                  nu_bar=nu_bar_slider, o_bar=o_bar_slider, psi=psi_slider, phi=phi_slider, T=T_slider)\n",
    "\n",
    "\n",
    "\n",
    "widgets.interact(plot_simulation, o_bar=period_10_shock(-1), psi=psi_slider, phi=phi_slider)"
   ]
  },
  {
   "cell_type": "markdown",
   "metadata": {},
   "source": [
    "## Dark mode options (a bit untidy)"
   ]
  },
  {
   "cell_type": "code",
   "execution_count": null,
   "metadata": {},
   "outputs": [],
   "source": [
    "from IPython.display import display, HTML"
   ]
  },
  {
   "cell_type": "code",
   "execution_count": null,
   "metadata": {},
   "outputs": [],
   "source": [
    "# Enable dark mode for ipywidgets\n",
    "dark_mode_css = \"\"\"\n",
    "<style>\n",
    ".widget-label, .widget-button, .widget-toggle-button, .widget-tab, .widget-text, .widget-dropdown, .widget-select > select, .widget-slider > .widget-label > .widget-readout, .widget-textarea, .widget-colorpicker, .widget-numeric input, .widget-upload > .widget-button, .widget-datepicker > .p-Widget > .p-Widget-control > .p-Widget > .p-Widget-control, .widget-datepicker > .p-Widget > .p-Widget-control > .p-Widget > .p-Widget-control input {\n",
    "    background-color: #333;\n",
    "}\n",
    ".widget-container {\n",
    "    background-color: #222;\n",
    "}\n",
    "</style>\n",
    "\"\"\"\n",
    "display(HTML(dark_mode_css))\n",
    "\n",
    "plt.style.use('dark_background')"
   ]
  },
  {
   "cell_type": "code",
   "execution_count": null,
   "metadata": {},
   "outputs": [],
   "source": [
    "# Reset ipywidgets to default styles\n",
    "reset_css = \"\"\"\n",
    "<style>\n",
    "/* Reset background-color for ipywidgets */\n",
    ".widget-label, .widget-button, .widget-toggle-button, .widget-tab, .widget-text, .widget-dropdown, .widget-select > select, .widget-slider > .widget-label > .widget-readout, .widget-textarea, .widget-colorpicker, .widget-numeric input, .widget-upload > .widget-button, .widget-datepicker > .p-Widget > .p-Widget-control > .p-Widget > .p-Widget-control, .widget-datepicker > .p-Widget > .p-Widget-control > .p-Widget > .p-Widget-control input {\n",
    "    background-color: inherit;\n",
    "}\n",
    "/* Reset background-color for widget containers */\n",
    ".widget-container {\n",
    "    background-color: inherit;\n",
    "}\n",
    "</style>\n",
    "\"\"\"\n",
    "display(HTML(reset_css))"
   ]
  }
 ],
 "metadata": {
  "kernelspec": {
   "display_name": "venv",
   "language": "python",
   "name": "python3"
  },
  "language_info": {
   "codemirror_mode": {
    "name": "ipython",
    "version": 3
   },
   "file_extension": ".py",
   "mimetype": "text/x-python",
   "name": "python",
   "nbconvert_exporter": "python",
   "pygments_lexer": "ipython3",
   "version": "3.10.12"
  }
 },
 "nbformat": 4,
 "nbformat_minor": 2
}
